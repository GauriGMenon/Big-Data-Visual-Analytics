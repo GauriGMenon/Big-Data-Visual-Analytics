{
  "cells": [
    {
      "attachments": {},
      "cell_type": "markdown",
      "metadata": {},
      "source": [
        "# Import Statements"
      ]
    },
    {
      "cell_type": "code",
      "execution_count": 23,
      "metadata": {
        "id": "L310aHjdtxmv"
      },
      "outputs": [],
      "source": [
        "from vtk import *\n",
        "import plotly.graph_objects as go\n",
        "from plotly.subplots import make_subplots\n",
        "import collections\n",
        "import plotly.graph_objects as go\n",
        "import ipywidgets as widgets"
      ]
    },
    {
      "attachments": {},
      "cell_type": "markdown",
      "metadata": {},
      "source": [
        "# Read, extract data and rounding off"
      ]
    },
    {
      "cell_type": "code",
      "execution_count": 24,
      "metadata": {
        "id": "LRYCqMWXEZUR"
      },
      "outputs": [],
      "source": [
        "reader = vtkXMLImageDataReader()\n",
        "reader.SetFileName('data/mixture.vti')\n",
        "reader.Update()\n",
        "data = reader.GetOutput()\n",
        "numPoints = data.GetNumberOfPoints()\n",
        "listx=[]\n",
        "listy=[]\n",
        "listz=[]\n",
        "isovalue=0.00\n",
        "dataArr = data.GetPointData().GetArray('ImageFile')\n",
        "listv=[]\n",
        "for i in range(numPoints):\n",
        "  x= data.GetPoint(i)[0]\n",
        "  y= data.GetPoint(i)[1]\n",
        "  z= data.GetPoint(i)[2]\n",
        "  value = dataArr.GetTuple1(i)\n",
        "  listx.append(x)\n",
        "  listy.append(y)\n",
        "  listz.append(z)\n",
        "  listv.append(value)\n",
        "listrv = [round(elem, 2) for elem in listv]"
      ]
    },
    {
      "attachments": {},
      "cell_type": "markdown",
      "metadata": {},
      "source": [
        "# Making and positioning subplots"
      ]
    },
    {
      "cell_type": "code",
      "execution_count": null,
      "metadata": {
        "colab": {
          "base_uri": "https://localhost:8080/",
          "height": 542
        },
        "id": "1GXX1RZYEv3S",
        "outputId": "40e2ef40-b39a-4463-8e3f-5d62b977757c"
      },
      "outputs": [],
      "source": [
        "fig = make_subplots(rows=1, cols=2,specs=[[{\"type\": \"isosurface\"},{\"type\": \"bar\"}]])\n",
        "fig.add_trace(go.Isosurface(\n",
        "    x=listx, \n",
        "    y=listy, \n",
        "    z=listz, \n",
        "    value=listv, \n",
        "    isomin=isovalue, \n",
        "    isomax=isovalue,\n",
        "    colorscale='Plasma',\n",
        "    showscale=False,\n",
        "    cmin=min(listv),\n",
        "    cmax=max(listv)),\n",
        "    row=1, col=1)\n",
        "fig.add_trace(go.Histogram(\n",
        "    x=listrv,\n",
        "    xbins=dict( # bins used for histogram\n",
        "      start=-1,\n",
        "      size=0.05)),\n",
        "    row=1, col=2) \n",
        "fig.update_layout(\n",
        "    xaxis_title_text='Vortex scalar value', # xaxis label\n",
        "    yaxis_title_text='Frequency' # yaxis label\n",
        ") "
      ]
    },
    {
      "attachments": {},
      "cell_type": "markdown",
      "metadata": {},
      "source": [
        "# Define widgets"
      ]
    },
    {
      "cell_type": "code",
      "execution_count": 26,
      "metadata": {
        "id": "aANFixW3qIJO"
      },
      "outputs": [],
      "source": [
        "import ipywidgets as widgets\n",
        "slider= widgets.FloatSlider(\n",
        "    value=0.00,\n",
        "    min=min(listrv),\n",
        "    max=max(listrv),\n",
        "    step=0.01,\n",
        "    description='Isoval'\n",
        ")\n",
        "\n",
        "reset= widgets.Button(\n",
        "    description='Reset',\n",
        "    disabled=False,\n",
        "    button_style='',\n",
        "    tooltip='Reset'\n",
        ")\n",
        "widgetcontainer=widgets.HBox([slider, reset])\n",
        "g = go.FigureWidget(fig)"
      ]
    },
    {
      "attachments": {},
      "cell_type": "markdown",
      "metadata": {},
      "source": [
        "# Handling widget response and display"
      ]
    },
    {
      "cell_type": "code",
      "execution_count": null,
      "metadata": {
        "colab": {
          "base_uri": "https://localhost:8080/",
          "height": 534,
          "referenced_widgets": [
            "22bd984b15b54184bc41b688d000e883",
            "7ef4d531f66d44f5aa2499ba8a2c7435",
            "c53b90a073b8423cb26b54209321ee78",
            "a3681904ec2d4fabaf326ca310210b9f",
            "3ba2fa84372447b4b9dd57dac2eeaa04",
            "3070c698a9b644a5a650bf1003fca268",
            "d9b82822e91e41e5b0be3b3d906e0b2d",
            "fd1470a80bee4e4bbf932b8e24cd8d26",
            "0d1c9990d88f4b0ba271d8ff3212a59e",
            "f1e80ef68d11441290080e9ae36ae2ce",
            "33b4c50e62834556beeba684b56c7f6d"
          ]
        },
        "id": "H1L7kpPDG5Wl",
        "outputId": "c636dc98-4c4a-47df-d4ad-289c986cc80c"
      },
      "outputs": [],
      "source": [
        "def change(x):\n",
        "  update= round(x['new'], 2)\n",
        "  updated_range= [i for i in listrv if update-0.25 <= i <= update+0.25]\n",
        "  with g.batch_update():\n",
        "    g.data[0].isomin=update\n",
        "    g.data[0].isomax=update\n",
        "    g.data[1].x=updated_range\n",
        "    g.data[1].xbins=dict( \n",
        "      start=min(updated_range),\n",
        "      size=0.01)\n",
        "\n",
        "def resetfunction(x):\n",
        "  slider.value=0.00\n",
        "  with g.batch_update():\n",
        "    g.data[0].isomin=0.0\n",
        "    g.data[0].isomax=0.0\n",
        "    g.data[1].x=listrv\n",
        "    g.data[1].xbins=dict(start=-1,size=0.05)\n",
        "\n",
        "slider.observe(change, names=\"value\")       \n",
        "reset.on_click(resetfunction)\n",
        "totalcontainer= widgets.VBox([widgetcontainer, g])\n",
        "display(totalcontainer)"
      ]
    }
  ],
  "metadata": {
    "colab": {
      "provenance": []
    },
    "kernelspec": {
      "display_name": "Python 3",
      "name": "python3"
    },
    "language_info": {
      "codemirror_mode": {
        "name": "ipython",
        "version": 3
      },
      "file_extension": ".py",
      "mimetype": "text/x-python",
      "name": "python",
      "nbconvert_exporter": "python",
      "pygments_lexer": "ipython3",
      "version": "3.9.7"
    },
    "widgets": {
      "application/vnd.jupyter.widget-state+json": {
        "0d1c9990d88f4b0ba271d8ff3212a59e": {
          "model_module": "@jupyter-widgets/controls",
          "model_module_version": "1.5.0",
          "model_name": "SliderStyleModel",
          "state": {
            "_model_module": "@jupyter-widgets/controls",
            "_model_module_version": "1.5.0",
            "_model_name": "SliderStyleModel",
            "_view_count": null,
            "_view_module": "@jupyter-widgets/base",
            "_view_module_version": "1.2.0",
            "_view_name": "StyleView",
            "description_width": "",
            "handle_color": null
          }
        },
        "22bd984b15b54184bc41b688d000e883": {
          "model_module": "@jupyter-widgets/controls",
          "model_module_version": "1.5.0",
          "model_name": "VBoxModel",
          "state": {
            "_dom_classes": [],
            "_model_module": "@jupyter-widgets/controls",
            "_model_module_version": "1.5.0",
            "_model_name": "VBoxModel",
            "_view_count": null,
            "_view_module": "@jupyter-widgets/controls",
            "_view_module_version": "1.5.0",
            "_view_name": "VBoxView",
            "box_style": "",
            "children": [
              "IPY_MODEL_7ef4d531f66d44f5aa2499ba8a2c7435",
              "IPY_MODEL_c53b90a073b8423cb26b54209321ee78"
            ],
            "layout": "IPY_MODEL_a3681904ec2d4fabaf326ca310210b9f"
          }
        },
        "3070c698a9b644a5a650bf1003fca268": {
          "model_module": "@jupyter-widgets/controls",
          "model_module_version": "1.5.0",
          "model_name": "ButtonModel",
          "state": {
            "_dom_classes": [],
            "_model_module": "@jupyter-widgets/controls",
            "_model_module_version": "1.5.0",
            "_model_name": "ButtonModel",
            "_view_count": null,
            "_view_module": "@jupyter-widgets/controls",
            "_view_module_version": "1.5.0",
            "_view_name": "ButtonView",
            "button_style": "",
            "description": "Reset",
            "disabled": false,
            "icon": "",
            "layout": "IPY_MODEL_f1e80ef68d11441290080e9ae36ae2ce",
            "style": "IPY_MODEL_33b4c50e62834556beeba684b56c7f6d",
            "tooltip": "Reset"
          }
        },
        "33b4c50e62834556beeba684b56c7f6d": {
          "model_module": "@jupyter-widgets/controls",
          "model_module_version": "1.5.0",
          "model_name": "ButtonStyleModel",
          "state": {
            "_model_module": "@jupyter-widgets/controls",
            "_model_module_version": "1.5.0",
            "_model_name": "ButtonStyleModel",
            "_view_count": null,
            "_view_module": "@jupyter-widgets/base",
            "_view_module_version": "1.2.0",
            "_view_name": "StyleView",
            "button_color": null,
            "font_weight": ""
          }
        },
        "3ba2fa84372447b4b9dd57dac2eeaa04": {
          "model_module": "@jupyter-widgets/controls",
          "model_module_version": "1.5.0",
          "model_name": "FloatSliderModel",
          "state": {
            "_dom_classes": [],
            "_model_module": "@jupyter-widgets/controls",
            "_model_module_version": "1.5.0",
            "_model_name": "FloatSliderModel",
            "_view_count": null,
            "_view_module": "@jupyter-widgets/controls",
            "_view_module_version": "1.5.0",
            "_view_name": "FloatSliderView",
            "continuous_update": true,
            "description": "Isoval",
            "description_tooltip": null,
            "disabled": false,
            "layout": "IPY_MODEL_fd1470a80bee4e4bbf932b8e24cd8d26",
            "max": 0.43,
            "min": -0.99,
            "orientation": "horizontal",
            "readout": true,
            "readout_format": ".2f",
            "step": 0.01,
            "style": "IPY_MODEL_0d1c9990d88f4b0ba271d8ff3212a59e",
            "value": -0.37
          }
        },
        "7ef4d531f66d44f5aa2499ba8a2c7435": {
          "model_module": "@jupyter-widgets/controls",
          "model_module_version": "1.5.0",
          "model_name": "HBoxModel",
          "state": {
            "_dom_classes": [],
            "_model_module": "@jupyter-widgets/controls",
            "_model_module_version": "1.5.0",
            "_model_name": "HBoxModel",
            "_view_count": null,
            "_view_module": "@jupyter-widgets/controls",
            "_view_module_version": "1.5.0",
            "_view_name": "HBoxView",
            "box_style": "",
            "children": [
              "IPY_MODEL_3ba2fa84372447b4b9dd57dac2eeaa04",
              "IPY_MODEL_3070c698a9b644a5a650bf1003fca268"
            ],
            "layout": "IPY_MODEL_d9b82822e91e41e5b0be3b3d906e0b2d"
          }
        },
        "a3681904ec2d4fabaf326ca310210b9f": {
          "model_module": "@jupyter-widgets/base",
          "model_module_version": "1.2.0",
          "model_name": "LayoutModel",
          "state": {
            "_model_module": "@jupyter-widgets/base",
            "_model_module_version": "1.2.0",
            "_model_name": "LayoutModel",
            "_view_count": null,
            "_view_module": "@jupyter-widgets/base",
            "_view_module_version": "1.2.0",
            "_view_name": "LayoutView",
            "align_content": null,
            "align_items": null,
            "align_self": null,
            "border": null,
            "bottom": null,
            "display": null,
            "flex": null,
            "flex_flow": null,
            "grid_area": null,
            "grid_auto_columns": null,
            "grid_auto_flow": null,
            "grid_auto_rows": null,
            "grid_column": null,
            "grid_gap": null,
            "grid_row": null,
            "grid_template_areas": null,
            "grid_template_columns": null,
            "grid_template_rows": null,
            "height": null,
            "justify_content": null,
            "justify_items": null,
            "left": null,
            "margin": null,
            "max_height": null,
            "max_width": null,
            "min_height": null,
            "min_width": null,
            "object_fit": null,
            "object_position": null,
            "order": null,
            "overflow": null,
            "overflow_x": null,
            "overflow_y": null,
            "padding": null,
            "right": null,
            "top": null,
            "visibility": null,
            "width": null
          }
        },
        "c53b90a073b8423cb26b54209321ee78": {
          "model_module": "jupyterlab-plotly",
          "model_module_version": "^5.13.1",
          "model_name": "FigureModel",
          "state": {
            "_config": {},
            "_data": [],
            "_dom_classes": [],
            "_js2py_layoutDelta": null,
            "_js2py_pointsCallback": {},
            "_js2py_relayout": null,
            "_js2py_restyle": {},
            "_js2py_traceDeltas": null,
            "_js2py_update": {},
            "_last_layout_edit_id": 7,
            "_last_trace_edit_id": 3,
            "_layout": {},
            "_model_module": "jupyterlab-plotly",
            "_model_module_version": "^5.13.1",
            "_model_name": "FigureModel",
            "_py2js_addTraces": {},
            "_py2js_animate": {},
            "_py2js_deleteTraces": {},
            "_py2js_moveTraces": {},
            "_py2js_relayout": null,
            "_py2js_removeLayoutProps": null,
            "_py2js_removeTraceProps": {},
            "_py2js_restyle": {},
            "_py2js_update": null,
            "_view_count": null,
            "_view_module": "jupyterlab-plotly",
            "_view_module_version": "^5.13.1",
            "_view_name": "FigureView"
          }
        },
        "d9b82822e91e41e5b0be3b3d906e0b2d": {
          "model_module": "@jupyter-widgets/base",
          "model_module_version": "1.2.0",
          "model_name": "LayoutModel",
          "state": {
            "_model_module": "@jupyter-widgets/base",
            "_model_module_version": "1.2.0",
            "_model_name": "LayoutModel",
            "_view_count": null,
            "_view_module": "@jupyter-widgets/base",
            "_view_module_version": "1.2.0",
            "_view_name": "LayoutView",
            "align_content": null,
            "align_items": null,
            "align_self": null,
            "border": null,
            "bottom": null,
            "display": null,
            "flex": null,
            "flex_flow": null,
            "grid_area": null,
            "grid_auto_columns": null,
            "grid_auto_flow": null,
            "grid_auto_rows": null,
            "grid_column": null,
            "grid_gap": null,
            "grid_row": null,
            "grid_template_areas": null,
            "grid_template_columns": null,
            "grid_template_rows": null,
            "height": null,
            "justify_content": null,
            "justify_items": null,
            "left": null,
            "margin": null,
            "max_height": null,
            "max_width": null,
            "min_height": null,
            "min_width": null,
            "object_fit": null,
            "object_position": null,
            "order": null,
            "overflow": null,
            "overflow_x": null,
            "overflow_y": null,
            "padding": null,
            "right": null,
            "top": null,
            "visibility": null,
            "width": null
          }
        },
        "f1e80ef68d11441290080e9ae36ae2ce": {
          "model_module": "@jupyter-widgets/base",
          "model_module_version": "1.2.0",
          "model_name": "LayoutModel",
          "state": {
            "_model_module": "@jupyter-widgets/base",
            "_model_module_version": "1.2.0",
            "_model_name": "LayoutModel",
            "_view_count": null,
            "_view_module": "@jupyter-widgets/base",
            "_view_module_version": "1.2.0",
            "_view_name": "LayoutView",
            "align_content": null,
            "align_items": null,
            "align_self": null,
            "border": null,
            "bottom": null,
            "display": null,
            "flex": null,
            "flex_flow": null,
            "grid_area": null,
            "grid_auto_columns": null,
            "grid_auto_flow": null,
            "grid_auto_rows": null,
            "grid_column": null,
            "grid_gap": null,
            "grid_row": null,
            "grid_template_areas": null,
            "grid_template_columns": null,
            "grid_template_rows": null,
            "height": null,
            "justify_content": null,
            "justify_items": null,
            "left": null,
            "margin": null,
            "max_height": null,
            "max_width": null,
            "min_height": null,
            "min_width": null,
            "object_fit": null,
            "object_position": null,
            "order": null,
            "overflow": null,
            "overflow_x": null,
            "overflow_y": null,
            "padding": null,
            "right": null,
            "top": null,
            "visibility": null,
            "width": null
          }
        },
        "fd1470a80bee4e4bbf932b8e24cd8d26": {
          "model_module": "@jupyter-widgets/base",
          "model_module_version": "1.2.0",
          "model_name": "LayoutModel",
          "state": {
            "_model_module": "@jupyter-widgets/base",
            "_model_module_version": "1.2.0",
            "_model_name": "LayoutModel",
            "_view_count": null,
            "_view_module": "@jupyter-widgets/base",
            "_view_module_version": "1.2.0",
            "_view_name": "LayoutView",
            "align_content": null,
            "align_items": null,
            "align_self": null,
            "border": null,
            "bottom": null,
            "display": null,
            "flex": null,
            "flex_flow": null,
            "grid_area": null,
            "grid_auto_columns": null,
            "grid_auto_flow": null,
            "grid_auto_rows": null,
            "grid_column": null,
            "grid_gap": null,
            "grid_row": null,
            "grid_template_areas": null,
            "grid_template_columns": null,
            "grid_template_rows": null,
            "height": null,
            "justify_content": null,
            "justify_items": null,
            "left": null,
            "margin": null,
            "max_height": null,
            "max_width": null,
            "min_height": null,
            "min_width": null,
            "object_fit": null,
            "object_position": null,
            "order": null,
            "overflow": null,
            "overflow_x": null,
            "overflow_y": null,
            "padding": null,
            "right": null,
            "top": null,
            "visibility": null,
            "width": null
          }
        }
      }
    }
  },
  "nbformat": 4,
  "nbformat_minor": 0
}
