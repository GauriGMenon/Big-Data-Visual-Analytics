{
 "cells": [
  {
   "cell_type": "code",
   "execution_count": 47,
   "metadata": {},
   "outputs": [],
   "source": [
    "#PART 1\n",
    "## Import VTK\n",
    "from vtk import *\n",
    "## Load data\n",
    "reader = vtkXMLImageDataReader()\n",
    "reader.SetFileName('Data/Isabel_2D.vti')\n",
    "reader.Update()\n",
    "data = reader.GetOutput()"
   ]
  },
  {
   "cell_type": "code",
   "execution_count": 48,
   "metadata": {},
   "outputs": [
    {
     "name": "stdout",
     "output_type": "stream",
     "text": [
      " Number of cells in the dataset: 62001\n"
     ]
    }
   ],
   "source": [
    "numCells = data.GetNumberOfCells()\n",
    "print(\" Number of cells in the dataset:\", numCells)"
   ]
  },
  {
   "cell_type": "code",
   "execution_count": 49,
   "metadata": {},
   "outputs": [
    {
     "name": "stdout",
     "output_type": "stream",
     "text": [
      "The dimensions of the dataset: (250, 250, 1)\n"
     ]
    }
   ],
   "source": [
    "DimData=data.GetDimensions()\n",
    "print(\"The dimensions of the dataset:\", DimData)"
   ]
  },
  {
   "cell_type": "code",
   "execution_count": 50,
   "metadata": {},
   "outputs": [
    {
     "name": "stdout",
     "output_type": "stream",
     "text": [
      "The number of points present in the uniform grid of the data: 62500\n"
     ]
    }
   ],
   "source": [
    "DataPoints=data.GetNumberOfPoints()\n",
    "print(\"The number of points present in the uniform grid of the data:\", DataPoints)"
   ]
  },
  {
   "cell_type": "code",
   "execution_count": 51,
   "metadata": {},
   "outputs": [
    {
     "name": "stdout",
     "output_type": "stream",
     "text": [
      " The range of Pressure values present in the dataset: (-1434.8590087890625, 630.5694580078125)\n"
     ]
    }
   ],
   "source": [
    "Datarange = data.GetPointData().GetArray('Pressure').GetRange()\n",
    "print(\" The range of Pressure values present in the dataset:\", Datarange)"
   ]
  },
  {
   "cell_type": "code",
   "execution_count": 52,
   "metadata": {},
   "outputs": [
    {
     "name": "stdout",
     "output_type": "stream",
     "text": [
      "The average Pressure value of the entire dataset: 240.77722069091325\n"
     ]
    }
   ],
   "source": [
    "dataArr = data.GetPointData().GetArray('Pressure')\n",
    "Avg=0\n",
    "i=0\n",
    "while i<DataPoints:\n",
    "    Avg+=dataArr.GetTuple1(i)\n",
    "    i+=1\n",
    "print(\"The average Pressure value of the entire dataset:\", Avg/DataPoints )"
   ]
  },
  {
   "cell_type": "code",
   "execution_count": 53,
   "metadata": {},
   "outputs": [],
   "source": [
    "## Get a single cell from the list of cells\n",
    "###########################################\n",
    "cell = data.GetCell(0) ## cell index = 0\n",
    "## Query the 4 corner points of the cell\n",
    "#########################################\n",
    "pid1 = cell.GetPointId(0)\n",
    "pid2 = cell.GetPointId(1)\n",
    "pid3 = cell.GetPointId(3)\n",
    "pid4 = cell.GetPointId(2)\n",
    "\n"
   ]
  },
  {
   "cell_type": "code",
   "execution_count": 54,
   "metadata": {},
   "outputs": [
    {
     "name": "stdout",
     "output_type": "stream",
     "text": [
      "1D indices of the cell corner points:\n",
      "0 1 251 250\n"
     ]
    }
   ],
   "source": [
    "## Print the 1D indices of the corner points\n",
    "############################################\n",
    "print('1D indices of the cell corner points:')\n",
    "print(pid1,pid2,pid3,pid4) ## in counter-clockwise order"
   ]
  },
  {
   "cell_type": "code",
   "execution_count": 55,
   "metadata": {},
   "outputs": [
    {
     "name": "stdout",
     "output_type": "stream",
     "text": [
      "Point locations of cell corners in counter clockwise order:\n",
      "(0.0, 0.0, 25.0)\n",
      "(1.0, 0.0, 25.0)\n",
      "(1.0, 1.0, 25.0)\n",
      "(0.0, 1.0, 25.0)\n"
     ]
    }
   ],
   "source": [
    "## Print the locations (3D coordinates) of the points\n",
    "#######################################################\n",
    "print('Point locations of cell corners in counter clockwise order:')\n",
    "print(data.GetPoint(pid1))\n",
    "print(data.GetPoint(pid2))\n",
    "print(data.GetPoint(pid3))\n",
    "print(data.GetPoint(pid4))"
   ]
  },
  {
   "cell_type": "code",
   "execution_count": 56,
   "metadata": {},
   "outputs": [
    {
     "name": "stdout",
     "output_type": "stream",
     "text": [
      "The 3D coordinate of the cell center (0.5, 0.5, 25.0)\n"
     ]
    }
   ],
   "source": [
    "import numpy as np\n",
    "Sum1 = np.add(np.array(data.GetPoint(pid1)),np.array(data.GetPoint(pid2)))\n",
    "Sum2= np.add(np.array(data.GetPoint(pid3)), np.array(data.GetPoint(pid4)))\n",
    "Sum= np.add(Sum1,Sum2)\n",
    "Avg=Sum/4\n",
    "print(\"The 3D coordinate of the cell center\", tuple(Avg))"
   ]
  },
  {
   "cell_type": "code",
   "execution_count": 57,
   "metadata": {},
   "outputs": [
    {
     "name": "stdout",
     "output_type": "stream",
     "text": [
      "Point locations of cell corners in counter clockwise order starting from point with index 0: 477.527587890625 474.79827880859375 467.60699462890625 478.0115661621094\n"
     ]
    }
   ],
   "source": [
    "val1 = dataArr.GetTuple1(pid1)\n",
    "val2 = dataArr.GetTuple1(pid2)\n",
    "val3 = dataArr.GetTuple1(pid3)\n",
    "val4 = dataArr.GetTuple1(pid4)\n",
    "print(\"Point locations of cell corners in counter clockwise order starting from point with index 0:\", val1,val2,val3,val4)\n"
   ]
  },
  {
   "cell_type": "code",
   "execution_count": 58,
   "metadata": {},
   "outputs": [
    {
     "name": "stdout",
     "output_type": "stream",
     "text": [
      "Average Pressure value of the cell 474.4861068725586\n"
     ]
    }
   ],
   "source": [
    "SumP= val1+val2+val3+val4\n",
    "print(\"Average Pressure value of the cell\", SumP/4)"
   ]
  },
  {
   "cell_type": "code",
   "execution_count": 59,
   "metadata": {},
   "outputs": [],
   "source": [
    "#PART 2\n",
    "points = vtkPoints()\n",
    "points.InsertNextPoint(data.GetPoint(pid1))\n",
    "points.InsertNextPoint(data.GetPoint(pid2))\n",
    "points.InsertNextPoint(data.GetPoint(pid3))\n",
    "points.InsertNextPoint(data.GetPoint(pid4))\n",
    "\n",
    "### Create a polydata\n",
    "######################\n",
    "pdata = vtkPolyData()\n",
    "\n",
    "# setup colors\n",
    "colors = vtkNamedColors()\n",
    "Colors = vtkUnsignedCharArray()\n",
    "Colors.SetNumberOfComponents(3)\n",
    "Colors.SetName('Colors')\n",
    "Colors.InsertNextTuple3(*colors.GetColor3ub('Red'))\n",
    "Colors.InsertNextTuple3(*colors.GetColor3ub('Lime'))\n",
    "Colors.InsertNextTuple3(*colors.GetColor3ub('Blue'))\n",
    "Colors.InsertNextTuple3(*colors.GetColor3ub('Yellow'))\n",
    "\n",
    "\n",
    "### Add points and cells to polydata\n",
    "####################################\n",
    "pdata.SetPoints(points)\n",
    "pdata.GetPointData().SetScalars(Colors)\n",
    "pdata.Modified()"
   ]
  },
  {
   "cell_type": "code",
   "execution_count": 60,
   "metadata": {},
   "outputs": [],
   "source": [
    "vertexGlyphFilter= vtkVertexGlyphFilter() \n",
    "vertexGlyphFilter.AddInputData(pdata)\n",
    "vertexGlyphFilter.Update()\n"
   ]
  },
  {
   "cell_type": "code",
   "execution_count": 61,
   "metadata": {},
   "outputs": [],
   "source": [
    "mapper = vtkPolyDataMapper()\n",
    "mapper.SetInputConnection(vertexGlyphFilter.GetOutputPort())\n",
    "actor = vtkActor()\n",
    "actor.SetMapper(mapper)\n",
    "actor.GetProperty().SetPointSize(20)\n",
    "\n",
    "### Setup render window, renderer, and interactor\n",
    "##################################################\n",
    "renderer = vtkRenderer()\n",
    "renderer.SetBackground(1,1,1)\n",
    "renderWindow = vtkRenderWindow()\n",
    "renderWindow.SetSize(800,800)\n",
    "renderWindow.AddRenderer(renderer)\n",
    "renderWindowInteractor = vtkRenderWindowInteractor()\n",
    "renderWindowInteractor.SetRenderWindow(renderWindow)\n",
    "renderer.AddActor(actor)\n",
    "\n",
    "\n",
    "### Finally render the object\n",
    "#############################\n",
    "renderWindow.Render()\n",
    "renderWindowInteractor.Start()\n",
    "\n",
    "\n"
   ]
  }
 ],
 "metadata": {
  "kernelspec": {
   "display_name": "Python 3.9.13 ('base')",
   "language": "python",
   "name": "python3"
  },
  "language_info": {
   "codemirror_mode": {
    "name": "ipython",
    "version": 3
   },
   "file_extension": ".py",
   "mimetype": "text/x-python",
   "name": "python",
   "nbconvert_exporter": "python",
   "pygments_lexer": "ipython3",
   "version": "3.9.13 (main, Aug 25 2022, 23:51:50) [MSC v.1916 64 bit (AMD64)]"
  },
  "orig_nbformat": 4,
  "vscode": {
   "interpreter": {
    "hash": "3e62ad1bda7612b35ebb845cebd15106cb33f0f0d82633ee03989cad59fd26ef"
   }
  }
 },
 "nbformat": 4,
 "nbformat_minor": 2
}
